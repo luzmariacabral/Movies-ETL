{
 "cells": [
  {
   "cell_type": "code",
   "execution_count": 1,
   "id": "1fd10e77",
   "metadata": {},
   "outputs": [],
   "source": [
    "import pandas as pd\n",
    "import os\n",
    "import csv"
   ]
  },
  {
   "cell_type": "code",
   "execution_count": 2,
   "id": "b2011d01",
   "metadata": {},
   "outputs": [],
   "source": [
    "# Creating a path\n",
    "#movie_data = os.path.join(\"movies_metadata\",\"ratings_small\",\"wikipedia-movies.json\")"
   ]
  },
  {
   "cell_type": "code",
   "execution_count": 4,
   "id": "09884b6c",
   "metadata": {},
   "outputs": [],
   "source": [
    "# Read the data\n",
    "#movies_lists_df = pd.read_csv(movie_data)\n",
    "#movies_lists_df.head()"
   ]
  },
  {
   "cell_type": "code",
   "execution_count": 6,
   "id": "ae728cca",
   "metadata": {},
   "outputs": [],
   "source": [
    "def extract_transform_load():\n",
    "    # 2. Read in the kaggle metadata and MovieLens ratings CSV files as Pandas DataFrames.\n",
    "    kaggle_metadata = pd.read_csv(\"movies_metadata.csv\")\n",
    "    ratings = pd.read_csv(\"ratings_small.csv\")\n",
    "\n",
    "    # 3. Open the read the Wikipedia data JSON file.\n",
    "    with open (\"wikipedia-movies.json\", mode='r') as file:\n",
    "        wiki_movies_raw = json.load(file)\n",
    "    # 4. Read in the raw wiki movie data as a Pandas DataFrame.\n",
    "    wiki_movies_df = pd.DataFrame(wiki_movies_raw)\n",
    "    # 5. Return the three DataFrames\n",
    "    return wiki_movies_df, kaggle_metadata, ratings"
   ]
  },
  {
   "cell_type": "code",
   "execution_count": null,
   "id": "0d3deb72",
   "metadata": {},
   "outputs": [],
   "source": []
  }
 ],
 "metadata": {
  "kernelspec": {
   "display_name": "Python 3",
   "language": "python",
   "name": "python3"
  },
  "language_info": {
   "codemirror_mode": {
    "name": "ipython",
    "version": 3
   },
   "file_extension": ".py",
   "mimetype": "text/x-python",
   "name": "python",
   "nbconvert_exporter": "python",
   "pygments_lexer": "ipython3",
   "version": "3.7.10"
  }
 },
 "nbformat": 4,
 "nbformat_minor": 5
}
